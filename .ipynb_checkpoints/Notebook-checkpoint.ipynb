{
 "cells": [
  {
   "cell_type": "markdown",
   "metadata": {},
   "source": [
    "Phase 4 Project - Kaggle Competition \"Natural Language Processing with Disaster Tweets\""
   ]
  },
  {
   "cell_type": "markdown",
   "metadata": {},
   "source": [
    "Sentiment Classification on twitter data"
   ]
  },
  {
   "cell_type": "markdown",
   "metadata": {},
   "source": [
    "## Business Problem"
   ]
  },
  {
   "cell_type": "markdown",
   "metadata": {},
   "source": [
    "Data has been accumulated from a number of tweets, some of which are about disasters, some of which are not. By creating a model for Natural Language Processing (NLP), we can predict whether or not a given tweet is about a real disaster or not. This can benefit companies who wish to monitor twitter in the event of an emergency."
   ]
  },
  {
   "cell_type": "markdown",
   "metadata": {},
   "source": [
    "## Data Understanding"
   ]
  },
  {
   "cell_type": "markdown",
   "metadata": {},
   "source": [
    "Necessary imports:\n"
   ]
  },
  {
   "cell_type": "code",
   "execution_count": 39,
   "metadata": {},
   "outputs": [
    {
     "name": "stderr",
     "output_type": "stream",
     "text": [
      "[nltk_data] Downloading package punkt to\n",
      "[nltk_data]     /Users/nicolemichaud/nltk_data...\n",
      "[nltk_data]   Package punkt is already up-to-date!\n"
     ]
    }
   ],
   "source": [
    "import pandas as pd \n",
    "import numpy as np \n",
    "np.random.seed(42)\n",
    "import nltk\n",
    "nltk.download('punkt')\n",
    "import seaborn as sns\n",
    "import re\n",
    "import matplotlib.pyplot as plt\n",
    "from matplotlib.ticker import MaxNLocator\n",
    "%matplotlib inline\n",
    "from nltk.tokenize import word_tokenize, RegexpTokenizer\n",
    "from sklearn.metrics import f1_score, classification_report, confusion_matrix, ConfusionMatrixDisplay\n",
    "from sklearn.pipeline import Pipeline\n",
    "from sklearn import feature_extraction, linear_model, model_selection, preprocessing\n",
    "from sklearn.feature_extraction.text import TfidfVectorizer, CountVectorizer, TfidfTransformer\n",
    "from nltk.corpus import stopwords\n",
    "from sklearn.model_selection import train_test_split \n",
    "from nltk import FreqDist\n",
    "from sklearn.naive_bayes import MultinomialNB\n",
    "from nltk.stem.snowball import SnowballStemmer\n",
    "from sklearn.model_selection import GridSearchCV\n",
    "from nltk.corpus import stopwords, wordnet\n",
    "from nltk.stem import WordNetLemmatizer\n"
   ]
  },
  {
   "cell_type": "code",
   "execution_count": 2,
   "metadata": {},
   "outputs": [],
   "source": [
    "train_df = pd.read_csv(\"data/train.csv\")\n",
    "test_df = pd.read_csv(\"data/test.csv\")"
   ]
  },
  {
   "cell_type": "markdown",
   "metadata": {},
   "source": [
    "### Data Exploration:"
   ]
  },
  {
   "cell_type": "code",
   "execution_count": 3,
   "metadata": {},
   "outputs": [
    {
     "data": {
      "text/html": [
       "<div>\n",
       "<style scoped>\n",
       "    .dataframe tbody tr th:only-of-type {\n",
       "        vertical-align: middle;\n",
       "    }\n",
       "\n",
       "    .dataframe tbody tr th {\n",
       "        vertical-align: top;\n",
       "    }\n",
       "\n",
       "    .dataframe thead th {\n",
       "        text-align: right;\n",
       "    }\n",
       "</style>\n",
       "<table border=\"1\" class=\"dataframe\">\n",
       "  <thead>\n",
       "    <tr style=\"text-align: right;\">\n",
       "      <th></th>\n",
       "      <th>id</th>\n",
       "      <th>keyword</th>\n",
       "      <th>location</th>\n",
       "      <th>text</th>\n",
       "      <th>target</th>\n",
       "    </tr>\n",
       "  </thead>\n",
       "  <tbody>\n",
       "    <tr>\n",
       "      <th>0</th>\n",
       "      <td>1</td>\n",
       "      <td>NaN</td>\n",
       "      <td>NaN</td>\n",
       "      <td>Our Deeds are the Reason of this #earthquake M...</td>\n",
       "      <td>1</td>\n",
       "    </tr>\n",
       "    <tr>\n",
       "      <th>1</th>\n",
       "      <td>4</td>\n",
       "      <td>NaN</td>\n",
       "      <td>NaN</td>\n",
       "      <td>Forest fire near La Ronge Sask. Canada</td>\n",
       "      <td>1</td>\n",
       "    </tr>\n",
       "    <tr>\n",
       "      <th>2</th>\n",
       "      <td>5</td>\n",
       "      <td>NaN</td>\n",
       "      <td>NaN</td>\n",
       "      <td>All residents asked to 'shelter in place' are ...</td>\n",
       "      <td>1</td>\n",
       "    </tr>\n",
       "    <tr>\n",
       "      <th>3</th>\n",
       "      <td>6</td>\n",
       "      <td>NaN</td>\n",
       "      <td>NaN</td>\n",
       "      <td>13,000 people receive #wildfires evacuation or...</td>\n",
       "      <td>1</td>\n",
       "    </tr>\n",
       "    <tr>\n",
       "      <th>4</th>\n",
       "      <td>7</td>\n",
       "      <td>NaN</td>\n",
       "      <td>NaN</td>\n",
       "      <td>Just got sent this photo from Ruby #Alaska as ...</td>\n",
       "      <td>1</td>\n",
       "    </tr>\n",
       "  </tbody>\n",
       "</table>\n",
       "</div>"
      ],
      "text/plain": [
       "   id keyword location                                               text  \\\n",
       "0   1     NaN      NaN  Our Deeds are the Reason of this #earthquake M...   \n",
       "1   4     NaN      NaN             Forest fire near La Ronge Sask. Canada   \n",
       "2   5     NaN      NaN  All residents asked to 'shelter in place' are ...   \n",
       "3   6     NaN      NaN  13,000 people receive #wildfires evacuation or...   \n",
       "4   7     NaN      NaN  Just got sent this photo from Ruby #Alaska as ...   \n",
       "\n",
       "   target  \n",
       "0       1  \n",
       "1       1  \n",
       "2       1  \n",
       "3       1  \n",
       "4       1  "
      ]
     },
     "execution_count": 3,
     "metadata": {},
     "output_type": "execute_result"
    }
   ],
   "source": [
    "train_df.head()"
   ]
  },
  {
   "cell_type": "code",
   "execution_count": 4,
   "metadata": {},
   "outputs": [
    {
     "name": "stdout",
     "output_type": "stream",
     "text": [
      "<class 'pandas.core.frame.DataFrame'>\n",
      "RangeIndex: 7613 entries, 0 to 7612\n",
      "Data columns (total 5 columns):\n",
      " #   Column    Non-Null Count  Dtype \n",
      "---  ------    --------------  ----- \n",
      " 0   id        7613 non-null   int64 \n",
      " 1   keyword   7552 non-null   object\n",
      " 2   location  5080 non-null   object\n",
      " 3   text      7613 non-null   object\n",
      " 4   target    7613 non-null   int64 \n",
      "dtypes: int64(2), object(3)\n",
      "memory usage: 297.5+ KB\n"
     ]
    }
   ],
   "source": [
    "train_df.info()"
   ]
  },
  {
   "cell_type": "code",
   "execution_count": 5,
   "metadata": {},
   "outputs": [
    {
     "name": "stdout",
     "output_type": "stream",
     "text": [
      "<class 'pandas.core.frame.DataFrame'>\n",
      "RangeIndex: 3263 entries, 0 to 3262\n",
      "Data columns (total 4 columns):\n",
      " #   Column    Non-Null Count  Dtype \n",
      "---  ------    --------------  ----- \n",
      " 0   id        3263 non-null   int64 \n",
      " 1   keyword   3237 non-null   object\n",
      " 2   location  2158 non-null   object\n",
      " 3   text      3263 non-null   object\n",
      "dtypes: int64(1), object(3)\n",
      "memory usage: 102.1+ KB\n"
     ]
    }
   ],
   "source": [
    "test_df.info()"
   ]
  },
  {
   "cell_type": "code",
   "execution_count": 6,
   "metadata": {},
   "outputs": [
    {
     "data": {
      "text/html": [
       "<div>\n",
       "<style scoped>\n",
       "    .dataframe tbody tr th:only-of-type {\n",
       "        vertical-align: middle;\n",
       "    }\n",
       "\n",
       "    .dataframe tbody tr th {\n",
       "        vertical-align: top;\n",
       "    }\n",
       "\n",
       "    .dataframe thead th {\n",
       "        text-align: right;\n",
       "    }\n",
       "</style>\n",
       "<table border=\"1\" class=\"dataframe\">\n",
       "  <thead>\n",
       "    <tr style=\"text-align: right;\">\n",
       "      <th></th>\n",
       "      <th>id</th>\n",
       "      <th>keyword</th>\n",
       "      <th>text</th>\n",
       "      <th>target</th>\n",
       "    </tr>\n",
       "  </thead>\n",
       "  <tbody>\n",
       "    <tr>\n",
       "      <th>0</th>\n",
       "      <td>1</td>\n",
       "      <td>NaN</td>\n",
       "      <td>Our Deeds are the Reason of this #earthquake M...</td>\n",
       "      <td>1</td>\n",
       "    </tr>\n",
       "    <tr>\n",
       "      <th>1</th>\n",
       "      <td>4</td>\n",
       "      <td>NaN</td>\n",
       "      <td>Forest fire near La Ronge Sask. Canada</td>\n",
       "      <td>1</td>\n",
       "    </tr>\n",
       "    <tr>\n",
       "      <th>2</th>\n",
       "      <td>5</td>\n",
       "      <td>NaN</td>\n",
       "      <td>All residents asked to 'shelter in place' are ...</td>\n",
       "      <td>1</td>\n",
       "    </tr>\n",
       "    <tr>\n",
       "      <th>3</th>\n",
       "      <td>6</td>\n",
       "      <td>NaN</td>\n",
       "      <td>13,000 people receive #wildfires evacuation or...</td>\n",
       "      <td>1</td>\n",
       "    </tr>\n",
       "    <tr>\n",
       "      <th>4</th>\n",
       "      <td>7</td>\n",
       "      <td>NaN</td>\n",
       "      <td>Just got sent this photo from Ruby #Alaska as ...</td>\n",
       "      <td>1</td>\n",
       "    </tr>\n",
       "  </tbody>\n",
       "</table>\n",
       "</div>"
      ],
      "text/plain": [
       "   id keyword                                               text  target\n",
       "0   1     NaN  Our Deeds are the Reason of this #earthquake M...       1\n",
       "1   4     NaN             Forest fire near La Ronge Sask. Canada       1\n",
       "2   5     NaN  All residents asked to 'shelter in place' are ...       1\n",
       "3   6     NaN  13,000 people receive #wildfires evacuation or...       1\n",
       "4   7     NaN  Just got sent this photo from Ruby #Alaska as ...       1"
      ]
     },
     "execution_count": 6,
     "metadata": {},
     "output_type": "execute_result"
    }
   ],
   "source": [
    "# I won't be working with the 'location' column, so I'll just drop that.\n",
    "train_df = train_df.drop(columns = ['location'])\n",
    "test_df = test_df.drop(columns = ['location'])\n",
    "train_df.head()"
   ]
  },
  {
   "cell_type": "code",
   "execution_count": 7,
   "metadata": {},
   "outputs": [
    {
     "name": "stdout",
     "output_type": "stream",
     "text": [
      "<class 'pandas.core.frame.DataFrame'>\n",
      "RangeIndex: 7613 entries, 0 to 7612\n",
      "Data columns (total 4 columns):\n",
      " #   Column   Non-Null Count  Dtype \n",
      "---  ------   --------------  ----- \n",
      " 0   id       7613 non-null   int64 \n",
      " 1   keyword  7552 non-null   object\n",
      " 2   text     7613 non-null   object\n",
      " 3   target   7613 non-null   int64 \n",
      "dtypes: int64(2), object(2)\n",
      "memory usage: 238.0+ KB\n"
     ]
    }
   ],
   "source": [
    "train_df['text'].dropna(inplace=True)\n",
    "train_df.info()"
   ]
  },
  {
   "cell_type": "code",
   "execution_count": 8,
   "metadata": {},
   "outputs": [
    {
     "name": "stdout",
     "output_type": "stream",
     "text": [
      "<class 'pandas.core.frame.DataFrame'>\n",
      "RangeIndex: 3263 entries, 0 to 3262\n",
      "Data columns (total 3 columns):\n",
      " #   Column   Non-Null Count  Dtype \n",
      "---  ------   --------------  ----- \n",
      " 0   id       3263 non-null   int64 \n",
      " 1   keyword  3237 non-null   object\n",
      " 2   text     3263 non-null   object\n",
      "dtypes: int64(1), object(2)\n",
      "memory usage: 76.6+ KB\n"
     ]
    }
   ],
   "source": [
    "test_df['text'].dropna(inplace=True)\n",
    "test_df.info()"
   ]
  },
  {
   "cell_type": "code",
   "execution_count": 9,
   "metadata": {},
   "outputs": [
    {
     "data": {
      "text/plain": [
       "'I love fruits'"
      ]
     },
     "execution_count": 9,
     "metadata": {},
     "output_type": "execute_result"
    }
   ],
   "source": [
    "# Example of what is NOT a disaster tweet:\n",
    "train_df[train_df[\"target\"] == 0][\"text\"].values[1]"
   ]
  },
  {
   "cell_type": "code",
   "execution_count": 10,
   "metadata": {},
   "outputs": [
    {
     "data": {
      "text/plain": [
       "'Forest fire near La Ronge Sask. Canada'"
      ]
     },
     "execution_count": 10,
     "metadata": {},
     "output_type": "execute_result"
    }
   ],
   "source": [
    "# Example of what IS a disaster tweet:\n",
    "train_df[train_df[\"target\"] == 1][\"text\"].values[1]"
   ]
  },
  {
   "cell_type": "markdown",
   "metadata": {},
   "source": [
    "###### Visualizing what proportion of the training data are disaster tweets and non-disaster tweets"
   ]
  },
  {
   "cell_type": "code",
   "execution_count": 11,
   "metadata": {},
   "outputs": [
    {
     "data": {
      "image/png": "[encoded data removed]",
      "text/plain": [
       "<Figure size 432x288 with 1 Axes>"
      ]
     },
     "metadata": {
      "needs_background": "light"
     },
     "output_type": "display_data"
    }
   ],
   "source": [
    "train_df['target'].hist();"
   ]
  },
  {
   "cell_type": "markdown",
   "metadata": {},
   "source": [
    "## Data Preparation"
   ]
  },
  {
   "cell_type": "markdown",
   "metadata": {},
   "source": [
    "#### Cleaning text data:\n",
    "need to remove urls, tags (contain @), stopwords, punctuation, etc."
   ]
  },
  {
   "cell_type": "code",
   "execution_count": 12,
   "metadata": {},
   "outputs": [
    {
     "data": {
      "text/plain": [
       "0         deeds reason earthquake may allah forgive us\n",
       "1                forest fire near la ronge sask canada\n",
       "2    residents asked 'shelter place' notified offic...\n",
       "3    people receive wildfires evacuation orders cal...\n",
       "4    got sent photo ruby alaska smoke wildfires pou...\n",
       "5    rockyfire update california hwy closed directi...\n",
       "6    flood disaster heavy rain causes flash floodin...\n",
       "7                          i'm top hill see fire woods\n",
       "8    there's emergency evacuation happening buildin...\n",
       "9                       i'm afraid tornado coming area\n",
       "Name: text, dtype: object"
      ]
     },
     "execution_count": 12,
     "metadata": {},
     "output_type": "execute_result"
    }
   ],
   "source": [
    "# Removing stopwords, punctuation, numbers, and bad characters \n",
    "# Stopwords removed during pipeline instead ? \n",
    "\n",
    "stopwords_list = stopwords.words('english')\n",
    "\n",
    "no_bad_chars = re.compile('[!\\\"#$%&()*+-./:;<=>?@[\\]^_`{|}~\\n - ]')\n",
    "no_nums = re.compile('[\\d-]')\n",
    "\n",
    "def clean_text(text):\n",
    "    text = no_nums.sub('', text) \n",
    "    text = re.sub(\"@[A-Za-z0-9]+\",\"\",text) #Remove @ sign\n",
    "    text = re.sub(r\"(?:\\@|http?\\://|https?\\://|www)\\S+\", \"\", text) #Remove http links\n",
    "    text = no_bad_chars.sub(' ', text) \n",
    "    text = text.replace(\"#\", \"\").replace(\"_\", \" \") #Remove hashtag sign but keep the text\n",
    "    text = text.lower() \n",
    "    text = ' '.join(word for word in text.split() if word not in stopwords_list)\n",
    "    return text\n",
    "    \n",
    "\n",
    "train_df_cleaned = train_df['text'].apply(clean_text)\n",
    "#train_df_cleaned = pd.DataFrame.sparse.from_spmatrix(train_df_cleaned)\n",
    "test_df_cleaned = test_df['text'].apply(clean_text)\n",
    "#test_df_cleaned = pd.DataFrame.sparse.from_spmatrix(test_df_cleaned)\n",
    "train_df_cleaned.head(10) \n",
    "\n",
    "\n"
   ]
  },
  {
   "cell_type": "markdown",
   "metadata": {},
   "source": [
    "___________\n"
   ]
  },
  {
   "cell_type": "markdown",
   "metadata": {},
   "source": [
    "###### Calculating the probabilities of disaster and non-disaster tweets in the training data:"
   ]
  },
  {
   "cell_type": "code",
   "execution_count": 13,
   "metadata": {},
   "outputs": [],
   "source": [
    "disaster_tweets = train_df[train_df['target']==1]\n",
    "\n",
    "other_tweets = train_df[train_df['target']==0]"
   ]
  },
  {
   "cell_type": "code",
   "execution_count": 14,
   "metadata": {},
   "outputs": [
    {
     "name": "stdout",
     "output_type": "stream",
     "text": [
      "0.4296597924602653\n",
      "0.5703402075397347\n"
     ]
    }
   ],
   "source": [
    "P_disasters = len(disaster_tweets) /(len(disaster_tweets)+len(other_tweets))\n",
    "P_non = len(other_tweets) /(len(other_tweets)+len(disaster_tweets))\n",
    "print(P_disasters)\n",
    "print(P_non)"
   ]
  },
  {
   "cell_type": "markdown",
   "metadata": {},
   "source": [
    "This tells us that tweets in train_df have a higher probability of not being about a disaster."
   ]
  },
  {
   "cell_type": "markdown",
   "metadata": {},
   "source": [
    "_______"
   ]
  },
  {
   "cell_type": "code",
   "execution_count": 15,
   "metadata": {},
   "outputs": [],
   "source": [
    "X = train_df.text\n",
    "y = train_df.target\n",
    "X_train, X_test, y_train, y_test = train_test_split(X, y, test_size=0.25, random_state = 42)"
   ]
  },
  {
   "cell_type": "code",
   "execution_count": 16,
   "metadata": {},
   "outputs": [],
   "source": [
    "X_train_cleaned = X_train.apply(clean_text)\n",
    "X_test_cleaned = X_test.apply(clean_text)"
   ]
  },
  {
   "cell_type": "code",
   "execution_count": 17,
   "metadata": {},
   "outputs": [],
   "source": [
    "# Keep this cell??\n",
    "# Move to Misc.?\n",
    "\n",
    "# Tokenizing the data:\n",
    "basic_token_pattern = r\"(?u)\\b\\w\\w+\\b\"\n",
    "\n",
    "tokenizer = RegexpTokenizer(basic_token_pattern)\n",
    "\n",
    "train_df_tokenized = train_df_cleaned.copy()\n",
    "test_df_tokenized = test_df_cleaned.copy()\n",
    "train_df_tokenized = train_df_cleaned.apply(tokenizer.tokenize)\n",
    "test_df_tokenized = test_df_cleaned.apply(tokenizer.tokenize)\n"
   ]
  },
  {
   "cell_type": "code",
   "execution_count": 18,
   "metadata": {},
   "outputs": [],
   "source": [
    "# Keep this cell??\n",
    "# Move to Misc.?\n",
    "\n",
    "\n",
    "#X_train_tokenized = X_train_cleaned.apply(tokenizer.tokenize)\n",
    "#X_test_tokenized = X_test_cleaned.apply(tokenizer.tokenize)\n",
    "\n",
    "#X_train_tokenized.explode()\n",
    "#X_test_tokenized.explode()"
   ]
  },
  {
   "cell_type": "code",
   "execution_count": 19,
   "metadata": {},
   "outputs": [],
   "source": [
    "def visualize_top_10(freq_dist, title):\n",
    "\n",
    "    # Extract data for plotting\n",
    "    top_10 = list(zip(*freq_dist.most_common(10)))\n",
    "    tokens = top_10[0]\n",
    "    counts = top_10[1]\n",
    "\n",
    "    # Set up plot and plot data\n",
    "    fig, ax = plt.subplots()\n",
    "    ax.bar(tokens, counts)\n",
    "\n",
    "    # Customize plot appearance\n",
    "    ax.set_title(title)\n",
    "    ax.set_ylabel(\"Count\")\n",
    "    ax.yaxis.set_major_locator(MaxNLocator(integer=True))\n",
    "    ax.tick_params(axis=\"x\", rotation=90)\n",
    "    \n"
   ]
  },
  {
   "cell_type": "code",
   "execution_count": 20,
   "metadata": {},
   "outputs": [
    {
     "data": {
      "image/png": "[encoded data removed]",
      "text/plain": [
       "<Figure size 432x288 with 1 Axes>"
      ]
     },
     "metadata": {
      "needs_background": "light"
     },
     "output_type": "display_data"
    }
   ],
   "source": [
    "train_freq_dist = FreqDist(train_df_tokenized.explode())\n",
    "visualize_top_10(train_freq_dist, \"Top 10 Word Frequency for train_df\")"
   ]
  },
  {
   "cell_type": "code",
   "execution_count": 21,
   "metadata": {},
   "outputs": [
    {
     "data": {
      "image/png": "[encoded data removed]",
      "text/plain": [
       "<Figure size 432x288 with 1 Axes>"
      ]
     },
     "metadata": {
      "needs_background": "light"
     },
     "output_type": "display_data"
    }
   ],
   "source": [
    "test_freq_dist = FreqDist(test_df_tokenized.explode())\n",
    "visualize_top_10(test_freq_dist, \"Top 10 Word Frequency for X_test\")"
   ]
  },
  {
   "cell_type": "markdown",
   "metadata": {},
   "source": [
    "Many of the most common words are the same in both the training df and the test df."
   ]
  },
  {
   "cell_type": "code",
   "execution_count": 22,
   "metadata": {},
   "outputs": [],
   "source": [
    "#Need to do this visualization for target=1 and target=0 of train_df"
   ]
  },
  {
   "cell_type": "code",
   "execution_count": 23,
   "metadata": {},
   "outputs": [],
   "source": [
    "disaster_tweets_cleaned = disaster_tweets['text'].apply(clean_text)\n",
    "other_tweets_cleaned = other_tweets['text'].apply(clean_text)"
   ]
  },
  {
   "cell_type": "code",
   "execution_count": 24,
   "metadata": {},
   "outputs": [],
   "source": [
    "disaster_tweets_tokenized = disaster_tweets_cleaned.apply(tokenizer.tokenize)\n",
    "other_tweets_tokenized = other_tweets_cleaned.apply(tokenizer.tokenize)\n"
   ]
  },
  {
   "cell_type": "code",
   "execution_count": 25,
   "metadata": {},
   "outputs": [
    {
     "data": {
      "image/png": "[encoded data removed]",
      "text/plain": [
       "<Figure size 432x288 with 1 Axes>"
      ]
     },
     "metadata": {
      "needs_background": "light"
     },
     "output_type": "display_data"
    }
   ],
   "source": [
    "dis_tweets_freq_dist = FreqDist(disaster_tweets_tokenized.explode())\n",
    "visualize_top_10(dis_tweets_freq_dist, \"Top 10 Word Frequency for disaster tweets in train_df\")"
   ]
  },
  {
   "cell_type": "code",
   "execution_count": 26,
   "metadata": {},
   "outputs": [
    {
     "data": {
      "image/png": "[encoded data removed]",
      "text/plain": [
       "<Figure size 432x288 with 1 Axes>"
      ]
     },
     "metadata": {
      "needs_background": "light"
     },
     "output_type": "display_data"
    }
   ],
   "source": [
    "other_tweets_freq_dist = FreqDist(other_tweets_tokenized.explode())\n",
    "visualize_top_10(other_tweets_freq_dist, \"Top 10 Word Frequency for non-disaster tweets in train_df\")"
   ]
  },
  {
   "cell_type": "markdown",
   "metadata": {},
   "source": [
    "###### Building a baseline model"
   ]
  },
  {
   "cell_type": "code",
   "execution_count": 27,
   "metadata": {},
   "outputs": [
    {
     "name": "stderr",
     "output_type": "stream",
     "text": [
      "/Users/nicolemichaud/opt/anaconda3/envs/learn-env/lib/python3.8/site-packages/sklearn/feature_extraction/text.py:383: UserWarning: Your stop_words may be inconsistent with your preprocessing. Tokenizing the stop words generated tokens [\"'d\", \"'ll\", \"'re\", \"'s\", \"'ve\", 'could', 'might', 'must', \"n't\", 'need', 'sha', 'wo', 'would'] not in stop_words.\n",
      "  warnings.warn('Your stop_words may be inconsistent with '\n"
     ]
    },
    {
     "name": "stdout",
     "output_type": "stream",
     "text": [
      "F1 0.7980290172460991\n",
      "              precision    recall  f1-score   support\n",
      "\n",
      "           0       0.81      0.86      0.83      1091\n",
      "           1       0.80      0.73      0.76       813\n",
      "\n",
      "    accuracy                           0.80      1904\n",
      "   macro avg       0.80      0.80      0.80      1904\n",
      "weighted avg       0.80      0.80      0.80      1904\n",
      "\n"
     ]
    }
   ],
   "source": [
    "baseline_model = Pipeline([('vect', CountVectorizer(max_features=None,\n",
    "                                                    tokenizer=word_tokenize,\n",
    "                                                   stop_words=stopwords_list)),\n",
    "                           ('clf', MultinomialNB())\n",
    "              ])\n",
    "baseline_model.fit(X_train_cleaned, y_train)\n",
    "\n",
    "\n",
    "y_pred = baseline_model.predict(X_test_cleaned)\n",
    "\n",
    "print('F1 %s' % f1_score(y_pred, y_test, average=\"macro\"))\n",
    "print(classification_report(y_test, y_pred))"
   ]
  },
  {
   "cell_type": "code",
   "execution_count": 28,
   "metadata": {},
   "outputs": [
    {
     "name": "stderr",
     "output_type": "stream",
     "text": [
      "/Users/nicolemichaud/opt/anaconda3/envs/learn-env/lib/python3.8/site-packages/sklearn/feature_extraction/text.py:383: UserWarning: Your stop_words may be inconsistent with your preprocessing. Tokenizing the stop words generated tokens [\"'d\", \"'ll\", \"'re\", \"'s\", \"'ve\", 'could', 'might', 'must', \"n't\", 'need', 'sha', 'wo', 'would'] not in stop_words.\n",
      "  warnings.warn('Your stop_words may be inconsistent with '\n"
     ]
    },
    {
     "name": "stdout",
     "output_type": "stream",
     "text": [
      "F1 0.7952741308160336\n",
      "              precision    recall  f1-score   support\n",
      "\n",
      "           0       0.81      0.86      0.83      1091\n",
      "           1       0.79      0.73      0.76       813\n",
      "\n",
      "    accuracy                           0.80      1904\n",
      "   macro avg       0.80      0.79      0.80      1904\n",
      "weighted avg       0.80      0.80      0.80      1904\n",
      "\n"
     ]
    }
   ],
   "source": [
    "# Model with bigrams:\n",
    "baseline_model = Pipeline([('vect', CountVectorizer(max_features=None,\n",
    "                                                    tokenizer=word_tokenize,\n",
    "                                                   stop_words=stopwords_list,\n",
    "                                                   ngram_range=(1,2))),\n",
    "                           ('clf', MultinomialNB())\n",
    "              ])\n",
    "baseline_model.fit(X_train_cleaned, y_train)\n",
    "\n",
    "\n",
    "y_pred = baseline_model.predict(X_test_cleaned)\n",
    "\n",
    "print('F1 %s' % f1_score(y_pred, y_test, average=\"macro\"))\n",
    "print(classification_report(y_test, y_pred))\n",
    "\n",
    "\n"
   ]
  },
  {
   "cell_type": "code",
   "execution_count": 29,
   "metadata": {},
   "outputs": [
    {
     "name": "stderr",
     "output_type": "stream",
     "text": [
      "/Users/nicolemichaud/opt/anaconda3/envs/learn-env/lib/python3.8/site-packages/sklearn/feature_extraction/text.py:383: UserWarning: Your stop_words may be inconsistent with your preprocessing. Tokenizing the stop words generated tokens [\"'d\", \"'ll\", \"'re\", \"'s\", \"'ve\", 'could', 'might', 'must', \"n't\", 'need', 'sha', 'wo', 'would'] not in stop_words.\n",
      "  warnings.warn('Your stop_words may be inconsistent with '\n"
     ]
    },
    {
     "name": "stdout",
     "output_type": "stream",
     "text": [
      "F1 0.7917740240719726\n",
      "              precision    recall  f1-score   support\n",
      "\n",
      "           0       0.79      0.90      0.84      1091\n",
      "           1       0.84      0.67      0.74       813\n",
      "\n",
      "    accuracy                           0.80      1904\n",
      "   macro avg       0.81      0.79      0.79      1904\n",
      "weighted avg       0.81      0.80      0.80      1904\n",
      "\n"
     ]
    }
   ],
   "source": [
    "# model with TF-IDF Vectorizer instead of CountVectorizer\n",
    "\n",
    "model2 = Pipeline([('vect', TfidfVectorizer(tokenizer=word_tokenize,\n",
    "                                           stop_words=stopwords_list)),\n",
    "                   ('clf', MultinomialNB()),\n",
    "                  ])\n",
    "model2.fit(X_train_cleaned, y_train)\n",
    "\n",
    "\n",
    "from sklearn.metrics import classification_report\n",
    "y_pred2 = model2.predict(X_test_cleaned)\n",
    "\n",
    "print('F1 %s' % f1_score(y_pred2, y_test, average=\"macro\"))\n",
    "print(classification_report(y_test, y_pred2))"
   ]
  },
  {
   "cell_type": "code",
   "execution_count": 30,
   "metadata": {},
   "outputs": [],
   "source": [
    "#when stemming/lemmatizing, we are going to do the same to the stopwords, so we don't want to remove them before this\n",
    "def clean_text_nostop(text):\n",
    "    text = no_nums.sub('', text) \n",
    "    text = re.sub(\"@[A-Za-z0-9]+\",\"\",text) #Remove @ sign\n",
    "    text = re.sub(r\"(?:\\@|http?\\://|https?\\://|www)\\S+\", \"\", text) #Remove http links\n",
    "    text = no_bad_chars.sub(' ', text) \n",
    "    text = text.replace(\"#\", \"\").replace(\"_\", \" \") #Remove hashtag sign but keep the text\n",
    "    text = text.lower() \n",
    "    #text = ' '.join(word for word in text.split() if word not in stopwords_list)\n",
    "    return text\n",
    "    \n",
    "train_df_cleaned_nostop = train_df.copy()\n",
    "\n",
    "train_df_cleaned_nostop['text'] = train_df_cleaned_nostop['text'].apply(clean_text_nostop)\n",
    "\n",
    "X_nostop = train_df_cleaned_nostop.text\n",
    "y_nostop = train_df_cleaned_nostop.target\n",
    "X_train_nostop, X_test_nostop, y_train_nostop, y_test_nostop = train_test_split(X_nostop, y_nostop, test_size=0.25, random_state = 42)\n"
   ]
  },
  {
   "cell_type": "code",
   "execution_count": 31,
   "metadata": {},
   "outputs": [],
   "source": [
    "# Stemming the text to see if it improves our model\n",
    "stemmer = SnowballStemmer(language=\"english\")\n",
    "\n",
    "def stem_and_tokenize(document):\n",
    "    tokens = tokenizer.tokenize(document)\n",
    "    return [stemmer.stem(token) for token in tokens]\n",
    "stemmed_stopwords = [stemmer.stem(word) for word in stopwords_list]"
   ]
  },
  {
   "cell_type": "code",
   "execution_count": 32,
   "metadata": {},
   "outputs": [
    {
     "name": "stdout",
     "output_type": "stream",
     "text": [
      "F1 0.7995784912170498\n",
      "              precision    recall  f1-score   support\n",
      "\n",
      "           0       0.81      0.86      0.83      1091\n",
      "           1       0.79      0.74      0.76       813\n",
      "\n",
      "    accuracy                           0.81      1904\n",
      "   macro avg       0.80      0.80      0.80      1904\n",
      "weighted avg       0.81      0.81      0.80      1904\n",
      "\n"
     ]
    }
   ],
   "source": [
    "#Stemmed data model\n",
    "stem_model = Pipeline([('vect', CountVectorizer(\n",
    "                         stop_words=stemmed_stopwords,\n",
    "                         tokenizer=stem_and_tokenize)),\n",
    "               ('clf', MultinomialNB()),\n",
    "              ])\n",
    "stem_model.fit(X_train_nostop, y_train_nostop)\n",
    "\n",
    "\n",
    "from sklearn.metrics import classification_report\n",
    "y_pred_stem= stem_model.predict(X_test_nostop)\n",
    "\n",
    "print('F1 %s' % f1_score(y_pred_stem, y_test_nostop, average=\"macro\"))\n",
    "print(classification_report(y_test_nostop, y_pred_stem))"
   ]
  },
  {
   "cell_type": "code",
   "execution_count": 33,
   "metadata": {},
   "outputs": [],
   "source": [
    "#What about lemmatization?\n",
    "lemmatizer = WordNetLemmatizer() \n",
    "\n",
    "def lem_and_tokenize(document):\n",
    "    tokens = tokenizer.tokenize(document)\n",
    "    return [lemmatizer.lemmatize(token) for token in tokens]\n",
    "\n",
    "\n",
    "lemm_stopwords = [lemmatizer.lemmatize(word) for word in stopwords_list]"
   ]
  },
  {
   "cell_type": "code",
   "execution_count": 34,
   "metadata": {
    "scrolled": true
   },
   "outputs": [
    {
     "name": "stdout",
     "output_type": "stream",
     "text": [
      "F1 0.7612412919569347\n",
      "              precision    recall  f1-score   support\n",
      "\n",
      "           0       0.81      0.85      0.83      1091\n",
      "           1       0.78      0.74      0.76       813\n",
      "\n",
      "    accuracy                           0.80      1904\n",
      "   macro avg       0.80      0.79      0.80      1904\n",
      "weighted avg       0.80      0.80      0.80      1904\n",
      "\n"
     ]
    }
   ],
   "source": [
    "# Lemmatized data model\n",
    "lemm_model = Pipeline([('vect', CountVectorizer(\n",
    "                         stop_words=lemm_stopwords,\n",
    "                         tokenizer=lem_and_tokenize)),\n",
    "                       ('clf', MultinomialNB()),\n",
    "              ])\n",
    "lemm_model.fit(X_train_nostop, y_train_nostop)\n",
    "\n",
    "\n",
    "from sklearn.metrics import classification_report\n",
    "y_lemm_pred= lemm_model.predict(X_test_nostop)\n",
    "\n",
    "print('F1 %s' % f1_score(y_lemm_pred, y_test_nostop))\n",
    "print(classification_report(y_test_nostop, y_lemm_pred))"
   ]
  },
  {
   "cell_type": "markdown",
   "metadata": {},
   "source": [
    "The best model was the stemmed model."
   ]
  },
  {
   "cell_type": "markdown",
   "metadata": {},
   "source": [
    "______"
   ]
  },
  {
   "cell_type": "markdown",
   "metadata": {},
   "source": [
    "#### Attempting GridSearch:"
   ]
  },
  {
   "cell_type": "code",
   "execution_count": 35,
   "metadata": {},
   "outputs": [],
   "source": [
    "vectorizer = CountVectorizer()\n",
    "X_train_vectorized = vectorizer.fit_transform(X_train_cleaned)\n",
    "X_test_vectorized = vectorizer.transform(X_test_cleaned)\n",
    "\n",
    "# Which do I use?? The whole train_df or just X_train?\n",
    "\n",
    "#train_df_vectorized = tfidf.fit_transform(train_df)\n",
    "#test_df_vectorized = tfidf.transform(test_df)\n",
    "\n",
    "#pd.DataFrame.sparse.from_spmatrix(train_df_vectorized, columns=vectorizer.get_feature_names())"
   ]
  },
  {
   "cell_type": "code",
   "execution_count": 37,
   "metadata": {},
   "outputs": [],
   "source": [
    "cv = CountVectorizer()\n",
    "X_train_vec = cv.fit_transform(X_train_cleaned)\n",
    "X_train_vec  = pd.DataFrame.sparse.from_spmatrix(X_train_vec)\n",
    "X_train_vec.columns = sorted(cv.vocabulary_)\n",
    "X_train_vec.set_index(y_train.index, inplace=True)\n",
    "\n",
    "\n",
    "X_test_vec = cv.transform(X_test_cleaned)\n",
    "X_test_vec  = pd.DataFrame.sparse.from_spmatrix(X_test_vec)\n",
    "X_test_vec.columns = sorted(cv.vocabulary_)\n",
    "X_test_vec.set_index(y_test.index, inplace=True)"
   ]
  },
  {
   "cell_type": "code",
   "execution_count": 38,
   "metadata": {},
   "outputs": [
    {
     "data": {
      "text/plain": [
       "GridSearchCV(cv=3, estimator=MultinomialNB(),\n",
       "             param_grid={'alpha': [0.5, 1.0, 1.5, 2.0, 2.5],\n",
       "                         'fit_prior': [True, False]},\n",
       "             scoring='f1')"
      ]
     },
     "execution_count": 38,
     "metadata": {},
     "output_type": "execute_result"
    }
   ],
   "source": [
    "#GridSearchCV\n",
    "alphas = [0.5, 1.0, 1.5, 2.0, 2.5]\n",
    "p_grid_NB = {'alpha': alphas, 'fit_prior' : [True, False]}\n",
    "NB_cls= MultinomialNB()\n",
    "\n",
    "grid = GridSearchCV(estimator = NB_cls, param_grid = p_grid_NB, scoring = 'f1', cv = 3)\n",
    "grid.fit(X_train_vec, y_train)"
   ]
  },
  {
   "cell_type": "markdown",
   "metadata": {},
   "source": [
    "Explanation for hyperparams:\n",
    "- alpha specifies whether or not to use smoothing/ it is the additive smoothing parameter (0=No smoothing)\n",
    "\n",
    "- class prior is the prior probability of the classes. Default is None.  If specified the priors are not adjusted according to the data.\n",
    "\n",
    "- fit prior specifies whether to learn class prior probabilities or not. If false, a uniform prior will be used."
   ]
  },
  {
   "cell_type": "code",
   "execution_count": 39,
   "metadata": {},
   "outputs": [
    {
     "data": {
      "text/plain": [
       "{'alpha': 2.0, 'fit_prior': True}"
      ]
     },
     "execution_count": 39,
     "metadata": {},
     "output_type": "execute_result"
    }
   ],
   "source": [
    "grid.best_params_"
   ]
  },
  {
   "cell_type": "code",
   "execution_count": 36,
   "metadata": {},
   "outputs": [
    {
     "name": "stdout",
     "output_type": "stream",
     "text": [
      "F1 0.8015542480543345\n",
      "              precision    recall  f1-score   support\n",
      "\n",
      "           0       0.81      0.87      0.84      1091\n",
      "           1       0.80      0.73      0.76       813\n",
      "\n",
      "    accuracy                           0.81      1904\n",
      "   macro avg       0.81      0.80      0.80      1904\n",
      "weighted avg       0.81      0.81      0.81      1904\n",
      "\n"
     ]
    }
   ],
   "source": [
    "tuned_model = Pipeline([('vect', CountVectorizer(\n",
    "    stop_words=stemmed_stopwords,\n",
    "    tokenizer=stem_and_tokenize,\n",
    "    ngram_range = (1,3))),\n",
    "                        ('clf', MultinomialNB(alpha= 2.0,fit_prior = True)),\n",
    "              ])\n",
    "tuned_model.fit(X_train_nostop, y_train_nostop)\n",
    "\n",
    "\n",
    "from sklearn.metrics import classification_report\n",
    "y_pred_tuned= tuned_model.predict(X_test_nostop)\n",
    "\n",
    "print('F1 %s' % f1_score(y_pred_tuned, y_test_nostop, average=\"macro\"))\n",
    "print(classification_report(y_test_nostop, y_pred_tuned))"
   ]
  },
  {
   "cell_type": "code",
   "execution_count": 37,
   "metadata": {},
   "outputs": [
    {
     "name": "stdout",
     "output_type": "stream",
     "text": [
      "Confusion Matrix:\n",
      " [[945 146]\n",
      " [219 594]]\n"
     ]
    }
   ],
   "source": [
    "cnf_matrix = confusion_matrix(y_test_nostop, y_pred_tuned)\n",
    "print('Confusion Matrix:\\n', cnf_matrix)"
   ]
  },
  {
   "cell_type": "code",
   "execution_count": 42,
   "metadata": {},
   "outputs": [
    {
     "data": {
      "image/png": "[encoded data removed]",
      "text/plain": [
       "<Figure size 720x720 with 2 Axes>"
      ]
     },
     "metadata": {
      "needs_background": "light"
     },
     "output_type": "display_data"
    }
   ],
   "source": [
    "#CM Visualization:\n",
    "fig, ax = plt.subplots(figsize=(10,10))\n",
    "cm_1 = ConfusionMatrixDisplay(confusion_matrix = cnf_matrix, display_labels = tuned_model.classes_)\n",
    "cm_1.plot(cmap=plt.cm.Blues, ax=ax)\n",
    "plt.xlabel('Prediction label',fontsize=15)\n",
    "plt.ylabel('True label',fontsize=15);"
   ]
  },
  {
   "cell_type": "markdown",
   "metadata": {},
   "source": [
    "This model gave 945 True Positives, 594 True Negatives, 146 False Negatives, and 219 False Positives. In this case, it would be better to have a false positive than a false negative, so this is good."
   ]
  },
  {
   "cell_type": "markdown",
   "metadata": {},
   "source": [
    "______"
   ]
  },
  {
   "cell_type": "code",
   "execution_count": 41,
   "metadata": {},
   "outputs": [],
   "source": [
    "#np.logspace(0,-9, num=10)"
   ]
  },
  {
   "cell_type": "code",
   "execution_count": 42,
   "metadata": {},
   "outputs": [
    {
     "ename": "IndentationError",
     "evalue": "unexpected indent (<ipython-input-42-a2825fe428c7>, line 4)",
     "output_type": "error",
     "traceback": [
      "\u001b[0;36m  File \u001b[0;32m\"<ipython-input-42-a2825fe428c7>\"\u001b[0;36m, line \u001b[0;32m4\u001b[0m\n\u001b[0;31m    n_repeats=3,\u001b[0m\n\u001b[0m    ^\u001b[0m\n\u001b[0;31mIndentationError\u001b[0m\u001b[0;31m:\u001b[0m unexpected indent\n"
     ]
    }
   ],
   "source": [
    "#from sklearn.model_selection import RepeatedStratifiedKFold\n",
    "\n",
    "#cv_method = RepeatedStratifiedKFold(n_splits=5, \n",
    "                                    n_repeats=3, \n",
    "                                    random_state=999)"
   ]
  },
  {
   "cell_type": "code",
   "execution_count": null,
   "metadata": {},
   "outputs": [],
   "source": [
    "#model = MultinomialNB()"
   ]
  },
  {
   "cell_type": "code",
   "execution_count": null,
   "metadata": {},
   "outputs": [],
   "source": [
    "#from sklearn.preprocessing import PowerTransformer\n",
    "#params_NB = {'var_smoothing': np.logspace(0,-9, num=100)}\n",
    "\n",
    "#gs_NB = GridSearchCV(estimator=model, \n",
    "                     #param_grid=params_NB, \n",
    "                     #cv=cv_method,\n",
    "                     #verbose=1, \n",
    "                     #scoring='accuracy')\n",
    "\n",
    "#Data_transformed = PowerTransformer().fit_transform(X_test)\n",
    "\n",
    "#gs_NB.fit(Data_transformed, y_test);"
   ]
  },
  {
   "cell_type": "code",
   "execution_count": null,
   "metadata": {},
   "outputs": [],
   "source": [
    "#from sklearn.preprocessing import MultiLabelBinarizer\n",
    "#model4 = Pipeline([('vect', MultiLabelBinarizer()),\n",
    "               #('clf', MultinomialNB()),\n",
    "              #])\n",
    "#model4.fit(X_train, y_train)\n",
    "\n",
    "\n",
    "#y_pred4 = model4.predict(X_test)\n",
    "\n",
    "#print('accuracy %s' % accuracy_score(y_pred4, y_test))\n",
    "#print(classification_report(y_test, y_pred4))\n",
    "\n"
   ]
  },
  {
   "cell_type": "markdown",
   "metadata": {},
   "source": [
    "## Generating Predictions"
   ]
  },
  {
   "cell_type": "markdown",
   "metadata": {},
   "source": [
    "After building baseline model, try things to improve score"
   ]
  },
  {
   "cell_type": "code",
   "execution_count": 43,
   "metadata": {},
   "outputs": [],
   "source": [
    "sample_submission = pd.read_csv(\"data/sample_submission.csv\")"
   ]
  },
  {
   "cell_type": "code",
   "execution_count": 44,
   "metadata": {},
   "outputs": [
    {
     "name": "stdout",
     "output_type": "stream",
     "text": [
      "<class 'pandas.core.frame.DataFrame'>\n",
      "RangeIndex: 3263 entries, 0 to 3262\n",
      "Data columns (total 2 columns):\n",
      " #   Column  Non-Null Count  Dtype\n",
      "---  ------  --------------  -----\n",
      " 0   id      3263 non-null   int64\n",
      " 1   target  3263 non-null   int64\n",
      "dtypes: int64(2)\n",
      "memory usage: 51.1 KB\n"
     ]
    }
   ],
   "source": [
    "sample_submission.info()"
   ]
  },
  {
   "cell_type": "markdown",
   "metadata": {},
   "source": [
    "Before creating predictions on the sample submission csv, I want to try it on the test_df to make sure it works:\n"
   ]
  },
  {
   "cell_type": "code",
   "execution_count": 45,
   "metadata": {},
   "outputs": [],
   "source": [
    "def clean_text_nostop(text):\n",
    "    text = no_nums.sub('', text) \n",
    "    text = re.sub(\"@[A-Za-z0-9]+\",\"\",text) #Remove @ sign\n",
    "    text = re.sub(r\"(?:\\@|http?\\://|https?\\://|www)\\S+\", \"\", text) #Remove http links\n",
    "    text = no_bad_chars.sub(' ', text) \n",
    "    text = text.replace(\"#\", \"\").replace(\"_\", \" \") #Remove hashtag sign but keep the text\n",
    "    text = text.lower() \n",
    "    return text\n",
    "    \n",
    "test_df_cleaned_nostop = test_df.copy()\n",
    "\n",
    "test_df_cleaned_nostop['text'] = test_df_cleaned_nostop['text'].apply(clean_text_nostop)\n"
   ]
  },
  {
   "cell_type": "code",
   "execution_count": 46,
   "metadata": {},
   "outputs": [
    {
     "data": {
      "text/html": [
       "<div>\n",
       "<style scoped>\n",
       "    .dataframe tbody tr th:only-of-type {\n",
       "        vertical-align: middle;\n",
       "    }\n",
       "\n",
       "    .dataframe tbody tr th {\n",
       "        vertical-align: top;\n",
       "    }\n",
       "\n",
       "    .dataframe thead th {\n",
       "        text-align: right;\n",
       "    }\n",
       "</style>\n",
       "<table border=\"1\" class=\"dataframe\">\n",
       "  <thead>\n",
       "    <tr style=\"text-align: right;\">\n",
       "      <th></th>\n",
       "      <th>id</th>\n",
       "      <th>keyword</th>\n",
       "      <th>text</th>\n",
       "    </tr>\n",
       "  </thead>\n",
       "  <tbody>\n",
       "    <tr>\n",
       "      <th>0</th>\n",
       "      <td>0</td>\n",
       "      <td>NaN</td>\n",
       "      <td>just happened a terrible car crash</td>\n",
       "    </tr>\n",
       "    <tr>\n",
       "      <th>1</th>\n",
       "      <td>2</td>\n",
       "      <td>NaN</td>\n",
       "      <td>heard about  earthquake is different cities  s...</td>\n",
       "    </tr>\n",
       "    <tr>\n",
       "      <th>2</th>\n",
       "      <td>3</td>\n",
       "      <td>NaN</td>\n",
       "      <td>there is a forest fire at spot pond  geese are...</td>\n",
       "    </tr>\n",
       "    <tr>\n",
       "      <th>3</th>\n",
       "      <td>9</td>\n",
       "      <td>NaN</td>\n",
       "      <td>apocalypse lighting   spokane  wildfires</td>\n",
       "    </tr>\n",
       "    <tr>\n",
       "      <th>4</th>\n",
       "      <td>11</td>\n",
       "      <td>NaN</td>\n",
       "      <td>typhoon soudelor kills  in china and taiwan</td>\n",
       "    </tr>\n",
       "    <tr>\n",
       "      <th>...</th>\n",
       "      <td>...</td>\n",
       "      <td>...</td>\n",
       "      <td>...</td>\n",
       "    </tr>\n",
       "    <tr>\n",
       "      <th>3258</th>\n",
       "      <td>10861</td>\n",
       "      <td>NaN</td>\n",
       "      <td>earthquake safety los angeles ûò safety faste...</td>\n",
       "    </tr>\n",
       "    <tr>\n",
       "      <th>3259</th>\n",
       "      <td>10865</td>\n",
       "      <td>NaN</td>\n",
       "      <td>storm in ri worse than last hurricane  my city...</td>\n",
       "    </tr>\n",
       "    <tr>\n",
       "      <th>3260</th>\n",
       "      <td>10868</td>\n",
       "      <td>NaN</td>\n",
       "      <td>green line derailment in chicago</td>\n",
       "    </tr>\n",
       "    <tr>\n",
       "      <th>3261</th>\n",
       "      <td>10874</td>\n",
       "      <td>NaN</td>\n",
       "      <td>meg issues hazardous weather outlook  hwo</td>\n",
       "    </tr>\n",
       "    <tr>\n",
       "      <th>3262</th>\n",
       "      <td>10875</td>\n",
       "      <td>NaN</td>\n",
       "      <td>cityofcalgary has activated its municipal eme...</td>\n",
       "    </tr>\n",
       "  </tbody>\n",
       "</table>\n",
       "<p>3263 rows × 3 columns</p>\n",
       "</div>"
      ],
      "text/plain": [
       "         id keyword                                               text\n",
       "0         0     NaN                 just happened a terrible car crash\n",
       "1         2     NaN  heard about  earthquake is different cities  s...\n",
       "2         3     NaN  there is a forest fire at spot pond  geese are...\n",
       "3         9     NaN           apocalypse lighting   spokane  wildfires\n",
       "4        11     NaN        typhoon soudelor kills  in china and taiwan\n",
       "...     ...     ...                                                ...\n",
       "3258  10861     NaN  earthquake safety los angeles ûò safety faste...\n",
       "3259  10865     NaN  storm in ri worse than last hurricane  my city...\n",
       "3260  10868     NaN                  green line derailment in chicago \n",
       "3261  10874     NaN        meg issues hazardous weather outlook  hwo  \n",
       "3262  10875     NaN   cityofcalgary has activated its municipal eme...\n",
       "\n",
       "[3263 rows x 3 columns]"
      ]
     },
     "execution_count": 46,
     "metadata": {},
     "output_type": "execute_result"
    }
   ],
   "source": [
    "test_df_cleaned_nostop"
   ]
  },
  {
   "cell_type": "code",
   "execution_count": 47,
   "metadata": {},
   "outputs": [],
   "source": [
    "test_df_sample = test_df_cleaned_nostop.copy()\n",
    "test_df_sample['target'] = tuned_model.predict(test_df_sample['text'])"
   ]
  },
  {
   "cell_type": "code",
   "execution_count": 48,
   "metadata": {},
   "outputs": [
    {
     "data": {
      "text/html": [
       "<div>\n",
       "<style scoped>\n",
       "    .dataframe tbody tr th:only-of-type {\n",
       "        vertical-align: middle;\n",
       "    }\n",
       "\n",
       "    .dataframe tbody tr th {\n",
       "        vertical-align: top;\n",
       "    }\n",
       "\n",
       "    .dataframe thead th {\n",
       "        text-align: right;\n",
       "    }\n",
       "</style>\n",
       "<table border=\"1\" class=\"dataframe\">\n",
       "  <thead>\n",
       "    <tr style=\"text-align: right;\">\n",
       "      <th></th>\n",
       "      <th>id</th>\n",
       "      <th>keyword</th>\n",
       "      <th>text</th>\n",
       "      <th>target</th>\n",
       "    </tr>\n",
       "  </thead>\n",
       "  <tbody>\n",
       "    <tr>\n",
       "      <th>0</th>\n",
       "      <td>0</td>\n",
       "      <td>NaN</td>\n",
       "      <td>just happened a terrible car crash</td>\n",
       "      <td>1</td>\n",
       "    </tr>\n",
       "    <tr>\n",
       "      <th>1</th>\n",
       "      <td>2</td>\n",
       "      <td>NaN</td>\n",
       "      <td>heard about  earthquake is different cities  s...</td>\n",
       "      <td>1</td>\n",
       "    </tr>\n",
       "    <tr>\n",
       "      <th>2</th>\n",
       "      <td>3</td>\n",
       "      <td>NaN</td>\n",
       "      <td>there is a forest fire at spot pond  geese are...</td>\n",
       "      <td>1</td>\n",
       "    </tr>\n",
       "    <tr>\n",
       "      <th>3</th>\n",
       "      <td>9</td>\n",
       "      <td>NaN</td>\n",
       "      <td>apocalypse lighting   spokane  wildfires</td>\n",
       "      <td>1</td>\n",
       "    </tr>\n",
       "    <tr>\n",
       "      <th>4</th>\n",
       "      <td>11</td>\n",
       "      <td>NaN</td>\n",
       "      <td>typhoon soudelor kills  in china and taiwan</td>\n",
       "      <td>1</td>\n",
       "    </tr>\n",
       "    <tr>\n",
       "      <th>...</th>\n",
       "      <td>...</td>\n",
       "      <td>...</td>\n",
       "      <td>...</td>\n",
       "      <td>...</td>\n",
       "    </tr>\n",
       "    <tr>\n",
       "      <th>3258</th>\n",
       "      <td>10861</td>\n",
       "      <td>NaN</td>\n",
       "      <td>earthquake safety los angeles ûò safety faste...</td>\n",
       "      <td>1</td>\n",
       "    </tr>\n",
       "    <tr>\n",
       "      <th>3259</th>\n",
       "      <td>10865</td>\n",
       "      <td>NaN</td>\n",
       "      <td>storm in ri worse than last hurricane  my city...</td>\n",
       "      <td>0</td>\n",
       "    </tr>\n",
       "    <tr>\n",
       "      <th>3260</th>\n",
       "      <td>10868</td>\n",
       "      <td>NaN</td>\n",
       "      <td>green line derailment in chicago</td>\n",
       "      <td>1</td>\n",
       "    </tr>\n",
       "    <tr>\n",
       "      <th>3261</th>\n",
       "      <td>10874</td>\n",
       "      <td>NaN</td>\n",
       "      <td>meg issues hazardous weather outlook  hwo</td>\n",
       "      <td>1</td>\n",
       "    </tr>\n",
       "    <tr>\n",
       "      <th>3262</th>\n",
       "      <td>10875</td>\n",
       "      <td>NaN</td>\n",
       "      <td>cityofcalgary has activated its municipal eme...</td>\n",
       "      <td>1</td>\n",
       "    </tr>\n",
       "  </tbody>\n",
       "</table>\n",
       "<p>3263 rows × 4 columns</p>\n",
       "</div>"
      ],
      "text/plain": [
       "         id keyword                                               text  target\n",
       "0         0     NaN                 just happened a terrible car crash       1\n",
       "1         2     NaN  heard about  earthquake is different cities  s...       1\n",
       "2         3     NaN  there is a forest fire at spot pond  geese are...       1\n",
       "3         9     NaN           apocalypse lighting   spokane  wildfires       1\n",
       "4        11     NaN        typhoon soudelor kills  in china and taiwan       1\n",
       "...     ...     ...                                                ...     ...\n",
       "3258  10861     NaN  earthquake safety los angeles ûò safety faste...       1\n",
       "3259  10865     NaN  storm in ri worse than last hurricane  my city...       0\n",
       "3260  10868     NaN                  green line derailment in chicago        1\n",
       "3261  10874     NaN        meg issues hazardous weather outlook  hwo         1\n",
       "3262  10875     NaN   cityofcalgary has activated its municipal eme...       1\n",
       "\n",
       "[3263 rows x 4 columns]"
      ]
     },
     "execution_count": 48,
     "metadata": {},
     "output_type": "execute_result"
    }
   ],
   "source": [
    "test_df_sample"
   ]
  },
  {
   "cell_type": "code",
   "execution_count": 49,
   "metadata": {},
   "outputs": [
    {
     "data": {
      "text/plain": [
       "0    2062\n",
       "1    1201\n",
       "Name: target, dtype: int64"
      ]
     },
     "execution_count": 49,
     "metadata": {},
     "output_type": "execute_result"
    }
   ],
   "source": [
    "test_df_sample['target'].value_counts()"
   ]
  },
  {
   "cell_type": "markdown",
   "metadata": {},
   "source": [
    "This appears to have worked, so let's try it on the sample submission:"
   ]
  },
  {
   "cell_type": "code",
   "execution_count": 50,
   "metadata": {},
   "outputs": [],
   "source": [
    "sample_submission[\"target\"] = tuned_model.predict(test_df['text'])"
   ]
  },
  {
   "cell_type": "code",
   "execution_count": 51,
   "metadata": {},
   "outputs": [
    {
     "data": {
      "text/plain": [
       "0    2001\n",
       "1    1262\n",
       "Name: target, dtype: int64"
      ]
     },
     "execution_count": 51,
     "metadata": {},
     "output_type": "execute_result"
    }
   ],
   "source": [
    "sample_submission['target'].value_counts()"
   ]
  },
  {
   "cell_type": "markdown",
   "metadata": {},
   "source": [
    "## Evaluation"
   ]
  },
  {
   "cell_type": "code",
   "execution_count": null,
   "metadata": {},
   "outputs": [],
   "source": [
    "#Confusion matrix"
   ]
  },
  {
   "cell_type": "code",
   "execution_count": null,
   "metadata": {},
   "outputs": [],
   "source": [
    "# neural network?"
   ]
  },
  {
   "cell_type": "code",
   "execution_count": 52,
   "metadata": {},
   "outputs": [],
   "source": [
    "#POS tagging"
   ]
  },
  {
   "cell_type": "markdown",
   "metadata": {},
   "source": [
    "## Conclusion"
   ]
  },
  {
   "cell_type": "markdown",
   "metadata": {},
   "source": [
    "_____"
   ]
  },
  {
   "cell_type": "code",
   "execution_count": null,
   "metadata": {},
   "outputs": [],
   "source": [
    "df1=pd.DataFrame(X_train)\n",
    "df1=df1.rename(columns={0:'tweet'})\n",
    "\n",
    "df2=pd.DataFrame(y_train)\n",
    "df2=df2.rename(columns={1:'sentiment'})\n",
    "\n",
    "df_train=pd.concat([df1,df2],axis=1)\n",
    "\n",
    "df3=pd.DataFrame(X_test)\n",
    "df3=df3.rename(columns={0:'tweet'})\n",
    "\n",
    "df4=pd.DataFrame(y_test)\n",
    "df4=df4.rename(columns={1:'sentiment'})\n",
    "df_test=pd.concat([df3,df4],axis=1)"
   ]
  },
  {
   "cell_type": "code",
   "execution_count": null,
   "metadata": {},
   "outputs": [],
   "source": [
    "df_test"
   ]
  },
  {
   "cell_type": "code",
   "execution_count": null,
   "metadata": {},
   "outputs": [],
   "source": [
    "df_train['text'] = df_train['text'].apply(lambda x:clean_text(x))\n",
    "df_test['text'] = df_test['text'].apply(lambda x:clean_text(x))\n",
    "\n",
    "#df_test['news']= df_test['news'].apply(lambda x:remove_punctuation(x))"
   ]
  },
  {
   "cell_type": "code",
   "execution_count": null,
   "metadata": {},
   "outputs": [],
   "source": [
    "def generate_N_grams(text,ngram=1):\n",
    "  words=[word for word in text.split(\" \") if word not in set(stopwords.words('english'))]  \n",
    "  print(\"bigrams:\",words)\n",
    "  temp=zip(*[words[i:] for i in range(0,ngram)])\n",
    "  ans=[' '.join(ngram) for ngram in temp]\n",
    "  return ans\n"
   ]
  },
  {
   "cell_type": "code",
   "execution_count": null,
   "metadata": {},
   "outputs": [],
   "source": [
    "df_train"
   ]
  },
  {
   "cell_type": "code",
   "execution_count": null,
   "metadata": {},
   "outputs": [],
   "source": [
    "generate_N_grams(\"The sun rises in the east\",2)"
   ]
  },
  {
   "cell_type": "code",
   "execution_count": null,
   "metadata": {},
   "outputs": [],
   "source": [
    "from collections import defaultdict\n",
    "\n",
    "disasterValues2=defaultdict(int)\n",
    "noneValues2=defaultdict(int)\n",
    "#neutralValues2=defaultdict(int)"
   ]
  },
  {
   "cell_type": "code",
   "execution_count": null,
   "metadata": {},
   "outputs": [],
   "source": [
    "for text in df_train[df_train.target==1].text:\n",
    "  for word in generate_N_grams(text,2):\n",
    "    disasterValues2[word]+=1"
   ]
  },
  {
   "cell_type": "code",
   "execution_count": null,
   "metadata": {},
   "outputs": [],
   "source": [
    "disasterValues2"
   ]
  },
  {
   "cell_type": "code",
   "execution_count": null,
   "metadata": {},
   "outputs": [],
   "source": [
    "for text in df_train[df_train.target==0].text:\n",
    "  for word in generate_N_grams(text,2):\n",
    "    noneValues2[word]+=1"
   ]
  },
  {
   "cell_type": "code",
   "execution_count": null,
   "metadata": {},
   "outputs": [],
   "source": [
    "df_disasterValues2=pd.DataFrame(sorted(disasterValues2.items(),key=lambda x:x[1],reverse=True))\n",
    "df_noneValues2=pd.DataFrame(sorted(noneValues2.items(),key=lambda x:x[1],reverse=True))\n"
   ]
  },
  {
   "cell_type": "code",
   "execution_count": null,
   "metadata": {},
   "outputs": [],
   "source": [
    "df_disasterValues2"
   ]
  },
  {
   "cell_type": "code",
   "execution_count": null,
   "metadata": {},
   "outputs": [],
   "source": [
    "disd1bi=df_disasterValues2[0][:10]\n",
    "disd2bi=df_disasterValues2[1][:10]"
   ]
  },
  {
   "cell_type": "code",
   "execution_count": null,
   "metadata": {},
   "outputs": [],
   "source": [
    "non1=df_noneValues2[0][:10]\n",
    "non2=df_noneValues2[1][:10]"
   ]
  },
  {
   "cell_type": "code",
   "execution_count": null,
   "metadata": {},
   "outputs": [],
   "source": [
    "plt.figure(1,figsize=(16,4))\n",
    "plt.bar(disd1bi,disd2bi, color ='green',\n",
    "        width = 0.4)\n",
    "plt.xlabel(\"Words in positive dataframe\")\n",
    "plt.ylabel(\"Count\")\n",
    "plt.title(\"Top 10 words in disaster dataframe-bigram ANALYSIS\")\n",
    "plt.savefig(\"positive-unigram.png\")\n",
    "plt.show()"
   ]
  },
  {
   "cell_type": "code",
   "execution_count": null,
   "metadata": {},
   "outputs": [],
   "source": [
    "plt.figure(1,figsize=(16,4))\n",
    "plt.bar(non1,non2, color ='red',\n",
    "        width = 0.4)\n",
    "plt.xlabel(\"Words in negative dataframe\")\n",
    "plt.ylabel(\"Count\")\n",
    "plt.title(\"Top 10 words in negative dataframe-BIGRAM ANALYSIS\")\n",
    "plt.savefig(\"negative-bigram.png\")\n",
    "plt.show()"
   ]
  },
  {
   "cell_type": "code",
   "execution_count": null,
   "metadata": {},
   "outputs": [],
   "source": [
    "X_train_bigr = defaultdict(int)\n",
    "X_test_bigr = defaultdict(int)\n",
    "for text in train_df[train_df.target==0].text:\n",
    "  for word in generate_N_grams(text,2):\n",
    "    noneValues2[word]+=1\n"
   ]
  },
  {
   "cell_type": "code",
   "execution_count": null,
   "metadata": {},
   "outputs": [],
   "source": [
    "baseline_model = Pipeline([('vect', CountVectorizer(max_features=None,\n",
    "                                                    ngram_range = (1,2),\n",
    "                                                    tokenizer=word_tokenize,\n",
    "                                                   stop_words=stopwords_list)),\n",
    "                           ('clf', MultinomialNB())\n",
    "              ])\n",
    "\n",
    "mnb = MultinomialNB()\n",
    "mnb.fit(X_train_cleaned, y_train)\n",
    "y_pred = baseline_model.predict(X_test_cleaned)\n",
    "\n",
    "print('F1 %s' % f1_score(y_pred, y_test))\n",
    "print(classification_report(y_test, y_pred))\n",
    "\n",
    "\n"
   ]
  }
 ],
 "metadata": {
  "kernelspec": {
   "display_name": "Python (learn-env)",
   "language": "python",
   "name": "learn-env"
  },
  "language_info": {
   "codemirror_mode": {
    "name": "ipython",
    "version": 3
   },
   "file_extension": ".py",
   "mimetype": "text/x-python",
   "name": "python",
   "nbconvert_exporter": "python",
   "pygments_lexer": "ipython3",
   "version": "3.8.5"
  }
 },
 "nbformat": 4,
 "nbformat_minor": 4
}
